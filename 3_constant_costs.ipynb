{
 "cells": [
  {
   "cell_type": "code",
   "execution_count": 1,
   "metadata": {},
   "outputs": [],
   "source": [
    "import numpy as np\n",
    "\n",
    "from src.state import CouriersGeneticAlgorithmState\n",
    "from src.baseline import BaselineGeneticAlgorithm\n",
    "from src.mutations import courier_mutation\n",
    "from src.crossovers import courier_2_parents_crossover\n",
    "from src.cost_func import DistanceCost"
   ]
  },
  {
   "cell_type": "code",
   "execution_count": 2,
   "metadata": {},
   "outputs": [],
   "source": [
    "POPULATION_SIZE = 1000\n",
    "CAPACITY = [2500, 2000, 1000, 500]\n",
    "DEMAND = [0, 100, 100, 200, 400, 200, 400, 800, 800, 100, 200, 100, 200, 400, 400, 800, 800]\n",
    "RANDOM_STATE = 100\n",
    "\n",
    "SALARY = [100, 100, 100, 100]\n",
    "DIST_MATRIX = [\n",
    "    [0, 5.48, 7.76, 6.96, 5.82, 2.74, 5.02, 1.94, 3.08, 1.94, 5.36, 5.02, 3.88, 3.54, 4.68, 7.76, 6.62],\n",
    "    [5.48, 0, 6.84, 3.08, 1.94, 5.02, 7.30, 3.54, 6.96, 7.42, 10.84, 5.94, 4.80, 6.74, 10.16, 8.68, 12.10],\n",
    "    [7.76, 6.84, 0, 9.92, 8.78, 5.02, 2.74, 8.10, 4.68, 7.42, 4.00, 12.78, 11.64, 11.30, 7.88, 15.52, 7.54],\n",
    "    [6.96, 3.08, 9.92, 0, 1.14, 6.50, 8.78, 5.02, 8.44, 8.90, 12.32, 5.14, 6.28, 8.22, 11.64, 5.60, 13.58],\n",
    "    [5.82, 1.94, 8.78, 1.14, 0, 5.36, 7.64, 3.88, 7.30, 7.76, 11.18, 4.00, 5.14, 7.08, 10.50, 6.74, 12.44],\n",
    "    [2.74, 5.02, 5.02, 6.50, 5.36, 0, 2.28, 3.08, 1.94, 2.40, 5.82, 7.76, 6.62, 6.28, 5.14, 10.50, 7.08],\n",
    "    [5.02, 7.30, 2.74, 8.78, 7.64, 2.28, 0, 5.36, 1.94, 4.68, 3.54, 10.04, 8.90, 8.56, 5.14, 12.78, 4.80],\n",
    "    [1.94, 3.54, 8.10, 5.02, 3.88, 3.08, 5.36, 0, 3.42, 3.88, 7.30, 4.68, 3.54, 3.20, 6.62, 7.42, 8.56],\n",
    "    [3.08, 6.96, 4.68, 8.44, 7.30, 1.94, 1.94, 3.42, 0, 2.74, 3.88, 8.10, 6.96, 6.62, 3.20, 10.84, 5.14],\n",
    "    [1.94, 7.42, 7.42, 8.90, 7.76, 2.40, 4.68, 3.88, 2.74, 0, 3.42, 5.36, 4.22, 3.88, 2.74, 8.10, 4.68],\n",
    "    [5.36, 10.84, 4.00, 12.32, 11.18, 5.82, 3.54, 7.30, 3.88, 3.42, 0, 8.78, 7.64, 7.30, 3.88, 11.52, 3.54],\n",
    "    [5.02, 5.94, 12.78, 5.14, 4.00, 7.76, 10.04, 4.68, 8.10, 5.36, 8.78, 0, 1.14, 3.08, 6.50, 2.74, 8.44],\n",
    "    [3.88, 4.80, 11.64, 6.28, 5.14, 6.62, 8.90, 3.54, 6.96, 4.22, 7.64, 1.14, 0, 1.94, 5.36, 3.88, 7.30],\n",
    "    [3.54, 6.74, 11.30, 8.22, 7.08, 6.28, 8.56, 3.20, 6.62, 3.88, 7.30, 3.08, 1.94, 0, 3.42, 4.22, 5.36],\n",
    "    [4.68, 10.16, 7.88, 11.64, 10.50, 5.14, 5.14, 6.62, 3.20, 2.74, 3.88, 6.50, 5.36, 3.42, 0, 7.64, 1.94],\n",
    "    [7.76, 8.68, 15.52, 5.60, 6.74, 10.50, 12.78, 7.42, 10.84, 8.10, 11.52, 2.74, 3.88, 4.22, 7.64, 0, 7.98],\n",
    "    [6.62, 12.10, 7.54, 13.58, 12.44, 7.08, 4.80, 8.56, 5.14, 4.68, 3.54, 8.44, 7.30, 5.36, 1.94, 7.98, 0]\n",
    "]"
   ]
  },
  {
   "cell_type": "code",
   "execution_count": 3,
   "metadata": {},
   "outputs": [
    {
     "name": "stderr",
     "output_type": "stream",
     "text": [
      "\u001b[32m2024-04-01 14:11:49.835\u001b[0m | \u001b[1mINFO    \u001b[0m | \u001b[36msrc.state\u001b[0m:\u001b[36m__init__\u001b[0m:\u001b[36m77\u001b[0m - \u001b[1mAverage Num retries: 5.6320000000002155\u001b[0m\n"
     ]
    }
   ],
   "source": [
    "current_state = CouriersGeneticAlgorithmState(\n",
    "    capacity=CAPACITY,\n",
    "    demand=DEMAND,\n",
    "    population_size=POPULATION_SIZE,\n",
    "    random_state=RANDOM_STATE\n",
    ")"
   ]
  },
  {
   "cell_type": "code",
   "execution_count": 4,
   "metadata": {},
   "outputs": [],
   "source": [
    "cost_function = DistanceCost(\n",
    "    salary=SALARY,\n",
    "    dist_matrix=DIST_MATRIX,\n",
    ")\n",
    "\n",
    "algo = BaselineGeneticAlgorithm(\n",
    "    state=current_state,\n",
    "    eval_functions=[cost_function],\n",
    "    mutation_function=courier_mutation,\n",
    "    mating_function=courier_2_parents_crossover,\n",
    ")"
   ]
  },
  {
   "cell_type": "code",
   "execution_count": 5,
   "metadata": {},
   "outputs": [
    {
     "data": {
      "text/plain": [
       "8764.0"
      ]
     },
     "execution_count": 5,
     "metadata": {},
     "output_type": "execute_result"
    }
   ],
   "source": [
    "cur_best = algo.get_best()\n",
    "\n",
    "cost_function(cur_best[0])"
   ]
  },
  {
   "cell_type": "code",
   "execution_count": 6,
   "metadata": {},
   "outputs": [
    {
     "data": {
      "text/plain": [
       "[[[3, 15, 11, 13, 16, 10], [8, 1, 4, 2, 5, 6], [7, 12], [14, 9]]]"
      ]
     },
     "execution_count": 6,
     "metadata": {},
     "output_type": "execute_result"
    }
   ],
   "source": [
    "algo.select(keep_share=0.5)\n",
    "algo.mate()\n",
    "algo.mutate(delta=5)\n",
    "\n",
    "cur_best = algo.get_best()\n",
    "\n",
    "cur_best"
   ]
  },
  {
   "cell_type": "code",
   "execution_count": 7,
   "metadata": {},
   "outputs": [
    {
     "data": {
      "text/plain": [
       "8444.0"
      ]
     },
     "execution_count": 7,
     "metadata": {},
     "output_type": "execute_result"
    }
   ],
   "source": [
    "cost_function(cur_best[0])"
   ]
  },
  {
   "cell_type": "code",
   "execution_count": 8,
   "metadata": {},
   "outputs": [
    {
     "name": "stderr",
     "output_type": "stream",
     "text": [
      "  2%|▏         | 1/49 [00:07<05:41,  7.11s/it]"
     ]
    },
    {
     "name": "stdout",
     "output_type": "stream",
     "text": [
      "Score after 1 iterations: 8444.0. Best: [[3, 15, 11, 13, 16, 10], [8, 1, 4, 2, 5, 6], [7, 12], [14, 9]]\n"
     ]
    },
    {
     "name": "stderr",
     "output_type": "stream",
     "text": [
      "  4%|▍         | 2/49 [00:13<05:19,  6.80s/it]"
     ]
    },
    {
     "name": "stdout",
     "output_type": "stream",
     "text": [
      "Score after 2 iterations: 7804.0. Best: [[12, 15, 11, 14, 16, 10], [6, 1, 4, 3, 2, 8], [7, 5], [9, 13]]\n"
     ]
    },
    {
     "name": "stderr",
     "output_type": "stream",
     "text": [
      "  8%|▊         | 4/49 [00:27<05:05,  6.78s/it]"
     ]
    },
    {
     "name": "stdout",
     "output_type": "stream",
     "text": [
      "Score after 4 iterations: 7968.000000000001. Best: [[16, 10, 2, 6, 8, 5], [4, 15, 12, 13, 11, 1], [7, 3], [14, 9]]\n"
     ]
    },
    {
     "name": "stderr",
     "output_type": "stream",
     "text": [
      " 10%|█         | 5/49 [00:34<05:01,  6.86s/it]"
     ]
    },
    {
     "name": "stdout",
     "output_type": "stream",
     "text": [
      "Score after 5 iterations: 7580.0. Best: [[16, 10, 2, 6, 8, 5], [3, 4, 15, 13, 11, 1], [7, 12], [14, 9]]\n"
     ]
    },
    {
     "name": "stderr",
     "output_type": "stream",
     "text": [
      " 18%|█▊        | 9/49 [01:01<04:35,  6.89s/it]"
     ]
    },
    {
     "name": "stdout",
     "output_type": "stream",
     "text": [
      "Score after 9 iterations: 7464.0. Best: [[8, 2, 1, 4, 3, 15, 11], [13, 12, 16, 6, 10], [5, 7], [14, 9]]\n"
     ]
    },
    {
     "name": "stderr",
     "output_type": "stream",
     "text": [
      " 24%|██▍       | 12/49 [01:21<04:01,  6.52s/it]"
     ]
    },
    {
     "name": "stdout",
     "output_type": "stream",
     "text": [
      "Score after 12 iterations: 7348.0. Best: [[11, 12, 15, 14, 16, 10], [7, 4, 3, 1, 6, 2], [8, 5], [13, 9]]\n"
     ]
    },
    {
     "name": "stderr",
     "output_type": "stream",
     "text": [
      " 27%|██▋       | 13/49 [01:26<03:38,  6.08s/it]"
     ]
    },
    {
     "name": "stdout",
     "output_type": "stream",
     "text": [
      "Score after 13 iterations: 7100.0. Best: [[16, 10, 2, 6, 8, 5], [15, 13, 11, 4, 3, 1], [12, 7], [9, 14]]\n"
     ]
    },
    {
     "name": "stderr",
     "output_type": "stream",
     "text": [
      " 33%|███▎      | 16/49 [01:42<03:07,  5.67s/it]"
     ]
    },
    {
     "name": "stdout",
     "output_type": "stream",
     "text": [
      "Score after 16 iterations: 6872.0. Best: [[16, 10, 2, 6, 8, 5], [7, 13, 15], [1, 3, 4, 11, 12], [14, 9]]\n"
     ]
    },
    {
     "name": "stderr",
     "output_type": "stream",
     "text": [
      " 35%|███▍      | 17/49 [01:47<02:50,  5.34s/it]"
     ]
    },
    {
     "name": "stdout",
     "output_type": "stream",
     "text": [
      "Score after 17 iterations: 6939.999999999999. Best: [[10, 16, 6, 2, 5, 8], [1, 4, 3, 11, 15, 13], [12, 7], [14, 9]]\n"
     ]
    },
    {
     "name": "stderr",
     "output_type": "stream",
     "text": [
      " 37%|███▋      | 18/49 [01:51<02:33,  4.96s/it]"
     ]
    },
    {
     "name": "stdout",
     "output_type": "stream",
     "text": [
      "Score after 18 iterations: 6644.0. Best: [[16, 10, 2, 6, 8, 5], [1, 4, 3, 11, 15, 13], [7, 12], [9, 14]]\n"
     ]
    },
    {
     "name": "stderr",
     "output_type": "stream",
     "text": [
      " 49%|████▉     | 24/49 [02:13<01:33,  3.73s/it]"
     ]
    },
    {
     "name": "stdout",
     "output_type": "stream",
     "text": [
      "Score after 24 iterations: 6576.0. Best: [[16, 10, 2, 6, 8, 5], [1, 4, 3, 15, 11, 13], [7, 12], [9, 14]]\n"
     ]
    },
    {
     "name": "stderr",
     "output_type": "stream",
     "text": [
      "100%|██████████| 49/49 [05:26<00:00,  6.65s/it]\n"
     ]
    }
   ],
   "source": [
    "from tqdm import tqdm\n",
    "\n",
    "prev_best_cost = 10000000\n",
    "\n",
    "for i in tqdm(range(1, 50)):\n",
    "    algo.select(keep_share=0.5)\n",
    "    algo.mate()\n",
    "    algo.mutate(delta=5)\n",
    "\n",
    "    cur_best = algo.get_best()\n",
    "\n",
    "    cur_best_cost = cost_function(cur_best[0])\n",
    "    if cur_best_cost != prev_best_cost:\n",
    "        prev_best_cost = cur_best_cost\n",
    "\n",
    "        print(f\"Score after {i} iterations: {cur_best_cost}. Best: {cur_best[0]}\")"
   ]
  }
 ],
 "metadata": {
  "kernelspec": {
   "display_name": "mmdmlab1-JHMTIYWg-py3.10",
   "language": "python",
   "name": "python3"
  },
  "language_info": {
   "codemirror_mode": {
    "name": "ipython",
    "version": 3
   },
   "file_extension": ".py",
   "mimetype": "text/x-python",
   "name": "python",
   "nbconvert_exporter": "python",
   "pygments_lexer": "ipython3",
   "version": "3.10.12"
  }
 },
 "nbformat": 4,
 "nbformat_minor": 2
}
