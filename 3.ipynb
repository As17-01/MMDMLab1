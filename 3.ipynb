{
 "cells": [
  {
   "cell_type": "code",
   "execution_count": 1,
   "metadata": {},
   "outputs": [],
   "source": [
    "import numpy as np\n",
    "\n",
    "from src.state import CouriersGeneticAlgorithmState\n",
    "from src.baseline import BaselineGeneticAlgorithm\n",
    "from src.mutations import courier_mutation\n",
    "from src.crossovers import courier_2_parents_crossover\n",
    "from src.cost_func import distance_cost"
   ]
  },
  {
   "cell_type": "code",
   "execution_count": 2,
   "metadata": {},
   "outputs": [],
   "source": [
    "POPULATION_SIZE = 1000\n",
    "NUM_COURIERS = 4\n",
    "NUM_CITIES = 10\n",
    "RANDOM_STATE = 100"
   ]
  },
  {
   "cell_type": "code",
   "execution_count": 3,
   "metadata": {},
   "outputs": [],
   "source": [
    "current_state = CouriersGeneticAlgorithmState(\n",
    "    num_couriers=NUM_COURIERS,\n",
    "    num_cities=NUM_CITIES,\n",
    "    population_size=POPULATION_SIZE,\n",
    "    random_state=RANDOM_STATE\n",
    ")"
   ]
  },
  {
   "cell_type": "code",
   "execution_count": 4,
   "metadata": {},
   "outputs": [],
   "source": [
    "algo = BaselineGeneticAlgorithm(\n",
    "    state=current_state,\n",
    "    eval_functions=[distance_cost],\n",
    "    mutation_function=courier_mutation,\n",
    "    mating_function=courier_2_parents_crossover,\n",
    ")"
   ]
  },
  {
   "cell_type": "code",
   "execution_count": 5,
   "metadata": {},
   "outputs": [
    {
     "data": {
      "text/plain": [
       "[[[7], [3, 1, 5, 6], [9, 10, 2, 8], [4]]]"
      ]
     },
     "execution_count": 5,
     "metadata": {},
     "output_type": "execute_result"
    }
   ],
   "source": [
    "algo.get_best()"
   ]
  },
  {
   "cell_type": "code",
   "execution_count": 6,
   "metadata": {},
   "outputs": [
    {
     "data": {
      "text/plain": [
       "[[[7], [3, 1, 5, 6], [9, 10, 2, 8], [4]]]"
      ]
     },
     "execution_count": 6,
     "metadata": {},
     "output_type": "execute_result"
    }
   ],
   "source": [
    "algo.select(keep_share=0.5)\n",
    "algo.get_best()"
   ]
  },
  {
   "cell_type": "code",
   "execution_count": 7,
   "metadata": {},
   "outputs": [
    {
     "data": {
      "text/plain": [
       "[[[8, 7], [], [6, 5, 3, 1, 4], [10, 2, 9]]]"
      ]
     },
     "execution_count": 7,
     "metadata": {},
     "output_type": "execute_result"
    }
   ],
   "source": [
    "algo.mate()\n",
    "algo.get_best()"
   ]
  },
  {
   "cell_type": "code",
   "execution_count": 8,
   "metadata": {},
   "outputs": [
    {
     "data": {
      "text/plain": [
       "[[[8, 7], [], [6, 5, 3, 1, 4], [10, 2, 9]]]"
      ]
     },
     "execution_count": 8,
     "metadata": {},
     "output_type": "execute_result"
    }
   ],
   "source": [
    "algo.mutate(delta=0.5)\n",
    "algo.get_best()"
   ]
  },
  {
   "cell_type": "code",
   "execution_count": 9,
   "metadata": {},
   "outputs": [
    {
     "data": {
      "text/plain": [
       "[[[], [7, 4, 3, 1], [8, 6, 5], [9, 10, 2]],\n",
       " [[], [1, 4, 3, 7], [8, 6, 5], [9, 10, 2]],\n",
       " [[], [8, 6, 5], [7, 4, 3, 1], [9, 10, 2]],\n",
       " [[], [8, 6, 5], [1, 4, 3, 7], [9, 10, 2]],\n",
       " [[], [7, 3, 4, 1], [8, 6, 5], [9, 10, 2]],\n",
       " [[], [7, 1, 4, 3], [8, 6, 5], [9, 10, 2]]]"
      ]
     },
     "execution_count": 9,
     "metadata": {},
     "output_type": "execute_result"
    }
   ],
   "source": [
    "for i in range(1, 100):\n",
    "    algo.select(keep_share=0.3)\n",
    "    algo.mate()\n",
    "    algo.mutate(delta=0.5 / i)\n",
    "\n",
    "algo.get_best()"
   ]
  }
 ],
 "metadata": {
  "kernelspec": {
   "display_name": "mmdmlab1-JHMTIYWg-py3.10",
   "language": "python",
   "name": "python3"
  },
  "language_info": {
   "codemirror_mode": {
    "name": "ipython",
    "version": 3
   },
   "file_extension": ".py",
   "mimetype": "text/x-python",
   "name": "python",
   "nbconvert_exporter": "python",
   "pygments_lexer": "ipython3",
   "version": "3.10.12"
  }
 },
 "nbformat": 4,
 "nbformat_minor": 2
}
